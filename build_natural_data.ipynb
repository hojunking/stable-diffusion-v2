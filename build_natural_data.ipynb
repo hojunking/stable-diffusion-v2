{
 "cells": [
  {
   "cell_type": "code",
   "execution_count": null,
   "metadata": {},
   "outputs": [
    {
     "ename": "",
     "evalue": "",
     "output_type": "error",
     "traceback": [
      "\u001b[1;31mThe kernel failed to start due to the missing module 'pygments.formatters'. Consider installing this module.\n",
      "\u001b[1;31mClick <a href='https://aka.ms/kernelFailuresMissingModule'>here</a> for more info."
     ]
    }
   ],
   "source": [
    "import os\n",
    "import shutil"
   ]
  },
  {
   "cell_type": "code",
   "execution_count": null,
   "metadata": {},
   "outputs": [],
   "source": [
    "# Paths to the directories\n",
    "label_dir = '../Data/genc/labels/train2017'  # Replace with your label directory path\n",
    "image_dir = '../Data/genc/images/train2017'  # Replace with your image directory path\n",
    "output_dir = 'path/to/output/dir'  # Replace with your desired output directory\n",
    "\n",
    "missed_cnt = 0 \n",
    "# Ensure output directory exists\n",
    "if not os.path.exists(output_dir):\n",
    "    os.makedirs(output_dir)\n",
    "\n",
    "# Process each label file\n",
    "for filename in os.listdir(label_dir):\n",
    "    if filename.endswith('.txt'):\n",
    "        with open(os.path.join(label_dir, filename), 'r') as file:\n",
    "            if any('0 ' in line for line in file):  # Check for class ID 0\n",
    "                # Corresponding image file\n",
    "                image_filename = filename.replace('.txt', '.jpg')  # Change extension as needed\n",
    "                image_path = os.path.join(image_dir, image_filename)\n",
    "\n",
    "                if os.path.exists(image_path):\n",
    "                    # Copy image to output directory\n",
    "                    shutil.copy(image_path, os.path.join(output_dir, image_filename))\n",
    "                else:\n",
    "                    missed_cnt +1\n",
    "\n",
    "print(missed_cnt)\n",
    "\n",
    "# End of script\n"
   ]
  },
  {
   "cell_type": "markdown",
   "metadata": {},
   "source": [
    "#### Split natural train-valid-test"
   ]
  },
  {
   "cell_type": "code",
   "execution_count": 3,
   "metadata": {},
   "outputs": [
    {
     "name": "stdout",
     "output_type": "stream",
     "text": [
      "Dataset split into train, validation, and test sets.\n"
     ]
    }
   ],
   "source": [
    "import os\n",
    "import random\n",
    "import shutil\n",
    "\n",
    "# Path to the directory containing all images\n",
    "data_dir = './data/natural_img'  # Replace with your data directory path\n",
    "\n",
    "# Paths for train, validation, and test directories\n",
    "train_dir = './data/natural_images/train'\n",
    "valid_dir = './data/natural_images/valid'\n",
    "test_dir = './data/natural_images/test'\n",
    "\n",
    "# Ensure the directories exist\n",
    "for dir_path in [train_dir, valid_dir, test_dir]:\n",
    "    if not os.path.exists(dir_path):\n",
    "        os.makedirs(dir_path)\n",
    "\n",
    "# Get a list of all files in the data directory\n",
    "all_files = os.listdir(data_dir)\n",
    "random.shuffle(all_files)  # Shuffle the list to ensure random selection\n",
    "\n",
    "# Split the files into train, valid, and test\n",
    "train_files = all_files[:10000]\n",
    "valid_files = all_files[10000:12900]\n",
    "test_files = all_files[12900:14400]\n",
    "\n",
    "# Function to copy files to a target directory\n",
    "def copy_files(files, target_dir):\n",
    "    for file in files:\n",
    "        source_path = os.path.join(data_dir, file)\n",
    "        target_path = os.path.join(target_dir, file)\n",
    "        shutil.copy(source_path, target_path)\n",
    "\n",
    "# Copy files to respective directories\n",
    "copy_files(train_files, train_dir)\n",
    "copy_files(valid_files, valid_dir)\n",
    "copy_files(test_files, test_dir)\n",
    "\n",
    "print(\"Dataset split into train, validation, and test sets.\")\n"
   ]
  },
  {
   "cell_type": "code",
   "execution_count": 6,
   "metadata": {},
   "outputs": [
    {
     "name": "stdout",
     "output_type": "stream",
     "text": [
      "Number of files in the folder: 1500\n"
     ]
    }
   ],
   "source": [
    "folder_path = test_dir\n",
    "file_count  = len([name for name in os.listdir(folder_path) if os.path.isfile(os.path.join(folder_path, name))])\n",
    "print(f\"Number of files in the folder: {file_count}\")"
   ]
  },
  {
   "cell_type": "markdown",
   "metadata": {},
   "source": [
    "### split generated"
   ]
  },
  {
   "cell_type": "code",
   "execution_count": null,
   "metadata": {},
   "outputs": [],
   "source": [
    "import os\n",
    "import random\n",
    "import shutil\n",
    "\n",
    "# Path to the directory containing all images\n",
    "data_dir = './data/extracted_imgs'  # Replace with your data directory path\n",
    "\n",
    "# Paths for train, validation, and test directories\n",
    "train_dir = './data/natural_images/train'\n",
    "valid_dir = './data/natural_images/valid'\n",
    "test_dir = './data/natural_images/test'\n",
    "\n",
    "# Ensure the directories exist\n",
    "for dir_path in [train_dir, valid_dir, test_dir]:\n",
    "    if not os.path.exists(dir_path):\n",
    "        os.makedirs(dir_path)\n",
    "\n",
    "# Get a list of all files in the data directory\n",
    "all_files = os.listdir(data_dir)\n",
    "random.shuffle(all_files)  # Shuffle the list to ensure random selection\n",
    "\n",
    "# Split the files into train, valid, and test\n",
    "train_files = all_files[:10000]\n",
    "valid_files = all_files[10000:17000]\n",
    "test_files = all_files[17000:18500]\n",
    "\n",
    "# Function to copy files to a target directory\n",
    "def copy_files(files, target_dir):\n",
    "    for file in files:\n",
    "        source_path = os.path.join(data_dir, file)\n",
    "        target_path = os.path.join(target_dir, file)\n",
    "        shutil.copy(source_path, target_path)\n",
    "\n",
    "# Copy files to respective directories\n",
    "copy_files(train_files, train_dir)\n",
    "copy_files(valid_files, valid_dir)\n",
    "copy_files(test_files, test_dir)\n",
    "\n",
    "print(\"Dataset split into train, validation, and test sets.\")\n"
   ]
  },
  {
   "cell_type": "code",
   "execution_count": 15,
   "metadata": {},
   "outputs": [
    {
     "name": "stdout",
     "output_type": "stream",
     "text": [
      "13312\n"
     ]
    }
   ],
   "source": [
    "import os\n",
    "import random\n",
    "import shutil\n",
    "\n",
    "\n",
    "# Paths to the source directories\n",
    "folder1_path = './data/generated_img/samples1'\n",
    "folder2_path = './data/generated_img/samples2'\n",
    "\n",
    "# Paths for train, validation, and test directories\n",
    "train_dir = './data/generated_images/train'\n",
    "valid_dir = './data/generated_images/valid'\n",
    "test_dir = './data/generated_images/test'\n",
    "\n",
    "# Ensure the directories exist\n",
    "for dir_path in [train_dir, valid_dir, test_dir]:\n",
    "    if not os.path.exists(dir_path):\n",
    "        os.makedirs(dir_path)\n",
    "\n",
    "# List and shuffle all files from both folders\n",
    "all_files = [(file, 'folder1') for file in os.listdir(folder1_path)] + \\\n",
    "            [(file, 'folder2') for file in os.listdir(folder2_path)]\n",
    "random.shuffle(all_files)\n",
    "\n",
    "print(len(all_files))\n"
   ]
  },
  {
   "cell_type": "code",
   "execution_count": 16,
   "metadata": {},
   "outputs": [
    {
     "name": "stdout",
     "output_type": "stream",
     "text": [
      "Dataset split into train, validation, and test sets with renamed files.\n"
     ]
    }
   ],
   "source": [
    "# Split the files into train, valid, and test\n",
    "train_files = all_files[:7000]\n",
    "valid_files = all_files[7000:9900]\n",
    "test_files = all_files[9900:11400]\n",
    "\n",
    "# Function to rename and copy files to a target directory\n",
    "def rename_and_copy_files(files, target_dir):\n",
    "    for file, folder in files:\n",
    "        new_file_name = f\"{folder}_{file}\"  # Rename the file\n",
    "        source_path = os.path.join(folder1_path if folder == 'folder1' else folder2_path, file)\n",
    "        target_path = os.path.join(target_dir, new_file_name)\n",
    "        shutil.copy(source_path, target_path)\n",
    "\n",
    "# Copy files to respective directories\n",
    "rename_and_copy_files(train_files, train_dir)\n",
    "rename_and_copy_files(valid_files, valid_dir)\n",
    "rename_and_copy_files(test_files, test_dir)\n",
    "\n",
    "print(\"Dataset split into train, validation, and test sets with renamed files.\")"
   ]
  },
  {
   "cell_type": "code",
   "execution_count": 18,
   "metadata": {},
   "outputs": [
    {
     "name": "stdout",
     "output_type": "stream",
     "text": [
      "./data/generated_images/train\n",
      "Number of files in the folder: 7000\n"
     ]
    }
   ],
   "source": [
    "folder_path = train_dir\n",
    "print(folder_path)\n",
    "file_count  = len([name for name in os.listdir(folder_path) if os.path.isfile(os.path.join(folder_path, name))])\n",
    "print(f\"Number of files in the folder: {file_count}\")"
   ]
  },
  {
   "cell_type": "markdown",
   "metadata": {},
   "source": [
    "#### Remove grayscale"
   ]
  },
  {
   "cell_type": "code",
   "execution_count": null,
   "metadata": {},
   "outputs": [
    {
     "ename": "",
     "evalue": "",
     "output_type": "error",
     "traceback": [
      "\u001b[1;31mThe kernel failed to start due to the missing module 'pygments.formatters'. Consider installing this module.\n",
      "\u001b[1;31mClick <a href='https://aka.ms/kernelFailuresMissingModule'>here</a> for more info."
     ]
    }
   ],
   "source": [
    "import os\n",
    "import cv2\n",
    "import numpy as np"
   ]
  },
  {
   "cell_type": "markdown",
   "metadata": {},
   "source": [
    "#### Remove black and white images"
   ]
  },
  {
   "cell_type": "code",
   "execution_count": null,
   "metadata": {},
   "outputs": [
    {
     "ename": "",
     "evalue": "",
     "output_type": "error",
     "traceback": [
      "\u001b[1;31mThe kernel failed to start due to the missing module 'pygments.formatters'. Consider installing this module.\n",
      "\u001b[1;31mClick <a href='https://aka.ms/kernelFailuresMissingModule'>here</a> for more info."
     ]
    }
   ],
   "source": [
    "# Paths to the source directories\n",
    "folder1_path = './outputs/gererated_watermarked/samples'\n",
    "#folder2_path = './data/generated_img/samples2'\n",
    "\n",
    "# List and shuffle all files from both folders\n",
    "all_files = [(file, 'folder1') for file in os.listdir(folder1_path)] #+ \\\n",
    "            #[(file, 'folder2') for file in os.listdir(folder2_path)]\n",
    "random.shuffle(all_files)\n",
    "print(len(all_files))"
   ]
  },
  {
   "cell_type": "code",
   "execution_count": 8,
   "metadata": {},
   "outputs": [
    {
     "data": {
      "text/plain": [
       "('06039.png', 'folder2')"
      ]
     },
     "execution_count": 8,
     "metadata": {},
     "output_type": "execute_result"
    }
   ],
   "source": [
    "all_files[0]"
   ]
  },
  {
   "cell_type": "code",
   "execution_count": null,
   "metadata": {},
   "outputs": [
    {
     "ename": "",
     "evalue": "",
     "output_type": "error",
     "traceback": [
      "\u001b[1;31mRunning cells with '/usr/bin/python3' requires the ipykernel package.\n",
      "\u001b[1;31mRun the following command to install 'ipykernel' into the Python environment. \n",
      "\u001b[1;31mCommand: '/usr/bin/python3 -m pip install ipykernel -U --user --force-reinstall'"
     ]
    }
   ],
   "source": [
    "def is_close_to_black_and_white(img_path, threshold=15):\n",
    "    img = cv2.imread(img_path)\n",
    "    if img is None or len(img.shape) < 3:  # Skipping if the image can't be read or isn't in color\n",
    "        return False\n",
    "    # Calculate the standard deviation across color channels\n",
    "    std_dev = np.std(cv2.split(img))\n",
    "    return std_dev < threshold"
   ]
  },
  {
   "cell_type": "code",
   "execution_count": 22,
   "metadata": {},
   "outputs": [
    {
     "name": "stdout",
     "output_type": "stream",
     "text": [
      "61.481122038559135\n"
     ]
    }
   ],
   "source": [
    "img_path = '/home/knuvi/Desktop/hojun/generated_image_classifier/data/generated_images/train/folder1_00006.png'\n",
    "print(is_close_to_black_and_white(img_path))"
   ]
  },
  {
   "cell_type": "code",
   "execution_count": 24,
   "metadata": {},
   "outputs": [
    {
     "name": "stdout",
     "output_type": "stream",
     "text": [
      "Threshold: 70, Images close to black and white removed: 8339\n"
     ]
    }
   ],
   "source": [
    "# Function to test different thresholds\n",
    "def test_threshold(threshold):\n",
    "    removed_count = 0 \n",
    "    for file, folder in all_files:\n",
    "        source_path = os.path.join(folder1_path if folder == 'folder1' else folder2_path, file)\n",
    "        if os.path.isfile(source_path) and is_close_to_black_and_white(source_path, threshold):\n",
    "            # Instead of removing, count the images\n",
    "            removed_count += 1\n",
    "    return removed_count\n",
    "\n",
    "# Test different thresholds\n",
    "for threshold in [70]:\n",
    "    count = test_threshold(threshold)\n",
    "    print(f\"Threshold: {threshold}, Images close to black and white removed: {count}\")\n"
   ]
  },
  {
   "cell_type": "code",
   "execution_count": 14,
   "metadata": {},
   "outputs": [
    {
     "name": "stdout",
     "output_type": "stream",
     "text": [
      "Total images close to black and white removed: 2260\n"
     ]
    }
   ],
   "source": [
    "# Iterate through each file in the folder\n",
    "threshold = 50\n",
    "removed_count = 0 \n",
    "for file, folder in all_files:\n",
    "    source_path = os.path.join(folder1_path if folder == 'folder1' else folder2_path, file)\n",
    "    if os.path.isfile(source_path) and is_close_to_black_and_white(source_path, threshold):\n",
    "        os.remove(source_path)  # Remove the image\n",
    "        removed_count += 1\n",
    "\n",
    "print(f\"Total images close to black and white removed: {removed_count}\")"
   ]
  },
  {
   "cell_type": "code",
   "execution_count": null,
   "metadata": {},
   "outputs": [],
   "source": [
    "import os\n",
    "import random\n",
    "import shutil\n",
    "import cv2\n",
    "\n",
    "# Paths to the source directories\n",
    "folder1_path = './data/generated_img/samples1'\n",
    "folder2_path = './data/generated_img/samples2'\n",
    "\n",
    "# Paths for train, validation, and test directories\n",
    "train_dir = './data/generated_images/train/'\n",
    "valid_dir = './data/generated_images/valid/'\n",
    "test_dir = './data/generated_images/test/'\n",
    "\n",
    "# Ensure the directories exist\n",
    "for dir_path in [train_dir, valid_dir, test_dir]:\n",
    "    if not os.path.exists(dir_path):\n",
    "        os.makedirs(dir_path)\n",
    "\n",
    "# Function to check if an image is grayscale\n",
    "def is_grayscale(img_path):\n",
    "    img = cv2.imread(img_path)\n",
    "    if img is None:\n",
    "        return False  # Skipping if the image can't be read\n",
    "    if len(img.shape) < 3 or img.shape[2] == 1:\n",
    "        return True  # Grayscale if only one color channel\n",
    "    return False\n",
    "\n",
    "# List and shuffle all files from both folders\n",
    "all_files = [(file, 'folder1') for file in os.listdir(folder1_path)] + \\\n",
    "            [(file, 'folder2') for file in os.listdir(folder2_path)]\n",
    "random.shuffle(all_files)\n",
    "\n",
    "# Initialize counters\n",
    "grayscale_count = 0\n",
    "processed_files = []\n",
    "\n",
    "# Process files and skip grayscale images\n",
    "for file, folder in all_files:\n",
    "    source_path = os.path.join(folder1_path if folder == 'folder1' else folder2_path, file)\n",
    "    if not is_grayscale(source_path):\n",
    "        processed_files.append((file, folder))\n",
    "    else:\n",
    "        grayscale_count += 1\n",
    "\n",
    "# Split the files into train, valid, and test\n",
    "train_files = processed_files[:10000]\n",
    "valid_files = processed_files[10000:17000]\n",
    "test_files = processed_files[17000:]\n",
    "\n",
    "# Function to rename and copy files to a target directory\n",
    "def rename_and_copy_files(files, target_dir):\n",
    "    for file, folder in files:\n",
    "        new_file_name = f\"{folder}_{file}\"  # Rename the file\n",
    "        source_path = os.path.join(folder1_path if folder == 'folder1' else folder2_path, file)\n",
    "        target_path = os.path.join(target_dir, new_file_name)\n",
    "        shutil.copy(source_path, target_path)\n",
    "\n",
    "# Copy files to respective directories\n",
    "rename_and_copy_files(train_files, train_dir)\n",
    "rename_and_copy_files(valid_files, valid_dir)\n",
    "rename_and_copy_files(test_files, test_dir)\n",
    "\n",
    "print(f\"Dataset split into train, validation, and test sets with renamed files.\")\n",
    "print(f\"Total grayscale images removed: {grayscale_count}\")\n"
   ]
  },
  {
   "cell_type": "code",
   "execution_count": null,
   "metadata": {},
   "outputs": [],
   "source": []
  }
 ],
 "metadata": {
  "kernelspec": {
   "display_name": "torch",
   "language": "python",
   "name": "python3"
  },
  "language_info": {
   "codemirror_mode": {
    "name": "ipython",
    "version": 3
   },
   "file_extension": ".py",
   "mimetype": "text/x-python",
   "name": "python",
   "nbconvert_exporter": "python",
   "pygments_lexer": "ipython3",
   "version": "3.8.5"
  }
 },
 "nbformat": 4,
 "nbformat_minor": 2
}
